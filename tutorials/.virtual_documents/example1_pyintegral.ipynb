





'''Show a simple example for integration using pyintegral'''
# Import standard libraries in python
import numpy as np
import matplotlib.pyplot as plt

# Import numerical integration libraries from pyintegralall
from pyintegral import flib
from pyintegral.pyint import PyIntegralClass

# Set default figure size for the entire notebook
width=14
heigh=12


# Fortran Libraries
print(flib.__doc__)


# Numerical integration library: integralall
print(flib.integralall.__doc__)


# Python class: PyIntegralClass: documentation
print(PyIntegralClass.__doc__)


# Import astropy libraries
from astropy.io import fits
from astropy import units as u
from astropy.visualization import quantity_support


# Example of a slice of a SDSS spectrum with emission-lines
f = fits.open(
    'https://data.sdss.org/sas/dr16/sdss/spectro/redux/26/spectra/1323/spec-1323-52797-0012.fits'
)

# The spectrum is in the second HDU of this file.
specdata = f[1].data[1020:1250]
f.close()


# Import specutils to convert format
from specutils import Spectrum1D

lamb = 10**specdata['loglam'] * u.AA
flux = specdata['flux'] * 10**-17 * u.Unit('erg cm-2 s-1 AA-1')
input_spec = Spectrum1D(spectral_axis=lamb, flux=flux)


# Plot spectrum
delta_l = 4.5

plt.figure(figsize=(width,heigh))

plt.plot(lamb,flux)
plt.plot(lamb.value*0+4861+delta_l,flux,linestyle='--',color='red')
plt.plot(lamb.value*0+5009+delta_l,flux,linestyle='--',color='red')

plt.xlabel(r'Wavelength [$\AA$]')
plt.ylabel('Fluxes')


# Shaded area of spectrum

plt.figure(figsize=(width,heigh))

plt.plot(lamb,flux)
plt.fill_between(lamb.value,flux.value,alpha=0.5)
plt.title('Shaded area below spectrum')


# Now integrate numerically spectrum over the available range using pyintegralall routines
# Set minimum and maximum values
lambda_i = lamb[0].value
lambda_f = lamb[-1].value
A_fortran,iskeepon = flib.integralall( lamb,flux,lambda_i,lambda_f )
result=f"Integral of spectrum in the available range {A_fortran:10.6g} {flux:}"
print(result)





# Integral examples: Left, Right and Trapezoidal rules
plt.figure(figsize=(width,heigh))
plt.scatter( lamb,flux )

x=np.array(lamb.value, dtype=float)
y=np.array(flux.value, dtype=float)

dx = np.zeros([x.size], dtype=float)
dxtrapezoidal = x[1:] - x[0:-1]
y_trapezoidal = (y[1:] + y[0:-1]) * 0.5
dx[0]  = dxtrapezoidal[0]
dx[1:] = dxtrapezoidal

x_trapezoidal_representation = np.concatenate([x ,x[0:-1]+dxtrapezoidal])
dxtrapezoidal_representation = np.concatenate([dx,dxtrapezoidal])
i_trapezoidal_representation = np.argsort(x_trapezoidal_representation)
x_trapezoidal_representation = x_trapezoidal_representation[i_trapezoidal_representation]
y_trapezoidal_representation = np.interp(x_trapezoidal_representation,x,y)

# Check integral
#print(np.sum(y_trapezoidal*dxtrapezoidal))

lista = ['Right rectangle Integral',
         'Left rectangle Integral',
         'Trapezoidal rule',
        ]

lista_int = []

lambda_i = x[0]
lambda_f = x[-1]
for int_type,nam_type in enumerate(lista):
    A_fortran,iskeepon = flib.integralall(
        x,y,lambda_i,lambda_f,int_type=int_type
    )
    result = f": {int_type:<3} {lista[int_type]:<} - {A_fortran:>10.6e}"

    #result = f": {int_type:<} \
    #         {lista[int_type]:<} \
    #         | Area: {A_fortran:<10.6e}"
    print(f"Length of lista[{int_type}]: {len(lista[int_type])}")
    lista_int.append(result)

plt.step( x,y,label='R '+lista_int[0] )
plt.step( x[1:],y[0:-1],label='L '+lista_int[1] )
#plt.step( x[1:]+dxtrapezoidal,y_trapezoidal,label='T' )
plt.plot( x_trapezoidal_representation,y_trapezoidal_representation, label='T '+lista_int[2] )

plt.xlim( 4855,4875 )
plt.legend()
plt.title('Examples of integration in graph')
plt.savefig('Example_Integration.png')


# Let us compare the results from different integration types

lista = ['Right rectangle Integral',
         'Left rectangle Integral',
         'Trapezoidal rule',
         'Simple Integral',
         'Median rectangle Integral',
         "Simpsonregel's rule",
         'Gauss-Legendre Quadrature']

lambda_i = lamb[0].value
lambda_f = lamb[-1].value
for int_type in range(0,7):
    A_fortran,iskeepon = flib.integralall(
        lamb,flux,lambda_i,lambda_f, int_type=int_type
    )
    result = f"int_type: {int_type:} \
             | name: {lista[int_type]:>25s} \
             | Area: {A_fortran:10.6e}"
    # print("int_type: {0:} \
    #.     | name: {1:>25s} \
    #.     | Area: {2:10.6e}".format(int_type,lista[int_type],A_fortran))%%!


# We can also compare with traditional numpy trapezium integration
A_numpy = np.trapz( flux,x=lamb )
print("Numpy Trapezium | Area: {0:10.6g}".format(A_numpy))
print("Ratio of Numpy Trapezium to the 6 integration methods from \
       pyintegralall: ")
for int_type in range(0,7):
    A_fortran,iskeepon = flib.integralall(
        lamb,flux,lambda_i,lambda_f, int_type=int_type
    )
    print("int_type: {0:} | \
    Area Fortran / Area Numpy Trapezium: \
    {1:10.6f}".format(int_type,A_fortran/A_numpy.value))


# We can also call (use easily) the class PyIntegralClass
options = {'lambda_i': np.nan,
           'lambda_f': np.nan,
           'int_type':2 }
i_object = PyIntegralClass( lamb.value,flux.value, options, verbosity=1 )
print("... Area: {0:10.6g}".format(i_object.integralall))
